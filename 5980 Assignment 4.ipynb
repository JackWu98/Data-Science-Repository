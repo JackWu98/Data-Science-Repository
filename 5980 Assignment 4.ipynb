{
 "cells": [
  {
   "cell_type": "code",
   "execution_count": 117,
   "metadata": {},
   "outputs": [],
   "source": [
    "import pandas as pd\n",
    "df=pd.read_csv(\"GAA_pset_ID.csv\")"
   ]
  },
  {
   "cell_type": "code",
   "execution_count": null,
   "metadata": {},
   "outputs": [],
   "source": []
  },
  {
   "cell_type": "code",
   "execution_count": 118,
   "metadata": {},
   "outputs": [],
   "source": [
    "def goal(a,b):\n",
    "    return (a-b)/a\n",
    "def label(row):\n",
    "    temp = max(goal(row[\"WEMP\"], 1950), 0) +max(goal(row[\"DOC\"], 60), 0)+max(goal(row[\"WFUEL\"], 400), 0)+max(goal(row[\"PURCH\"], 42000), 0)+max(goal(row[\"RANGE\"], -2500), 0)+max(goal(row[\"LDMAX\"], -17), 0)+max(goal(row[\"WEMP\"], -200), 0)\n",
    "    return temp/7\n",
    "    \n",
    "df['performance'] = df.apply (lambda row: label(row), axis=1)"
   ]
  },
  {
   "cell_type": "code",
   "execution_count": 119,
   "metadata": {},
   "outputs": [
    {
     "data": {
      "text/plain": [
       "0      0.178453\n",
       "1      0.176136\n",
       "2      0.175181\n",
       "3      0.190515\n",
       "4      0.178749\n",
       "         ...   \n",
       "994    0.185730\n",
       "995    0.187666\n",
       "996    0.184640\n",
       "997    0.180512\n",
       "998    0.187720\n",
       "Name: performance, Length: 999, dtype: float64"
      ]
     },
     "execution_count": 119,
     "metadata": {},
     "output_type": "execute_result"
    }
   ],
   "source": [
    "df['performance']"
   ]
  },
  {
   "cell_type": "code",
   "execution_count": 120,
   "metadata": {},
   "outputs": [
    {
     "data": {
      "text/plain": [
       "0.16570696048229072"
      ]
     },
     "execution_count": 120,
     "metadata": {},
     "output_type": "execute_result"
    }
   ],
   "source": [
    "min(df['performance'])"
   ]
  },
  {
   "cell_type": "code",
   "execution_count": 121,
   "metadata": {},
   "outputs": [
    {
     "data": {
      "text/html": [
       "<div>\n",
       "<style scoped>\n",
       "    .dataframe tbody tr th:only-of-type {\n",
       "        vertical-align: middle;\n",
       "    }\n",
       "\n",
       "    .dataframe tbody tr th {\n",
       "        vertical-align: top;\n",
       "    }\n",
       "\n",
       "    .dataframe thead th {\n",
       "        text-align: right;\n",
       "    }\n",
       "</style>\n",
       "<table border=\"1\" class=\"dataframe\">\n",
       "  <thead>\n",
       "    <tr style=\"text-align: right;\">\n",
       "      <th></th>\n",
       "      <th>ID</th>\n",
       "      <th>NOISE</th>\n",
       "      <th>WEMP</th>\n",
       "      <th>DOC</th>\n",
       "      <th>ROUGH</th>\n",
       "      <th>WFUEL</th>\n",
       "      <th>PURCH</th>\n",
       "      <th>RANGE</th>\n",
       "      <th>LDMAX</th>\n",
       "      <th>VCMAX</th>\n",
       "      <th>PFPF</th>\n",
       "      <th>performance</th>\n",
       "    </tr>\n",
       "  </thead>\n",
       "  <tbody>\n",
       "    <tr>\n",
       "      <th>864</th>\n",
       "      <td>864</td>\n",
       "      <td>73.811076</td>\n",
       "      <td>1958.342857</td>\n",
       "      <td>61.111825</td>\n",
       "      <td>1.997429</td>\n",
       "      <td>387.750744</td>\n",
       "      <td>43539.92485</td>\n",
       "      <td>-2159.880408</td>\n",
       "      <td>-15.151832</td>\n",
       "      <td>-192.502666</td>\n",
       "      <td>0.923319</td>\n",
       "      <td>0.165707</td>\n",
       "    </tr>\n",
       "  </tbody>\n",
       "</table>\n",
       "</div>"
      ],
      "text/plain": [
       "      ID      NOISE         WEMP        DOC     ROUGH       WFUEL  \\\n",
       "864  864  73.811076  1958.342857  61.111825  1.997429  387.750744   \n",
       "\n",
       "           PURCH        RANGE      LDMAX       VCMAX      PFPF  performance  \n",
       "864  43539.92485 -2159.880408 -15.151832 -192.502666  0.923319     0.165707  "
      ]
     },
     "execution_count": 121,
     "metadata": {},
     "output_type": "execute_result"
    }
   ],
   "source": [
    "df.loc[df['performance'] == min(df['performance'])]"
   ]
  },
  {
   "cell_type": "markdown",
   "metadata": {},
   "source": [
    "I chose ID 864 as the solution since it has the overall minimize performance measurement. As expected, the solution has most objective value that is pretty close to the goal metric provided.\n"
   ]
  },
  {
   "cell_type": "code",
   "execution_count": 122,
   "metadata": {},
   "outputs": [
    {
     "data": {
      "text/plain": [
       "[<matplotlib.lines.Line2D at 0x27208437520>]"
      ]
     },
     "execution_count": 122,
     "metadata": {},
     "output_type": "execute_result"
    },
    {
     "data": {
      "image/png": "[encoded data removed]",
      "text/plain": [
       "<Figure size 432x288 with 1 Axes>"
      ]
     },
     "metadata": {
      "needs_background": "light"
     },
     "output_type": "display_data"
    }
   ],
   "source": [
    "import matplotlib.pyplot as plt\n",
    "df.plot(x=\"performance\", y=\"PFPF\", kind = \"scatter\")\n",
    "plt.plot(0.165707, 0.923319,'ro')"
   ]
  },
  {
   "cell_type": "markdown",
   "metadata": {},
   "source": [
    "b. The red dot is the chosen solution. There seems to be a tradeoff between PFPF and the goal programming performance in the lower left corner. "
   ]
  },
  {
   "cell_type": "markdown",
   "metadata": {},
   "source": [
    "c. The goal solution seems to lie on the Pareto Front in the lower left corner. The location means that our a priori method of minimizing both objectives is quite effective. "
   ]
  },
  {
   "cell_type": "code",
   "execution_count": 123,
   "metadata": {},
   "outputs": [
    {
     "data": {
      "text/html": [
       "<div>\n",
       "<style scoped>\n",
       "    .dataframe tbody tr th:only-of-type {\n",
       "        vertical-align: middle;\n",
       "    }\n",
       "\n",
       "    .dataframe tbody tr th {\n",
       "        vertical-align: top;\n",
       "    }\n",
       "\n",
       "    .dataframe thead th {\n",
       "        text-align: right;\n",
       "    }\n",
       "</style>\n",
       "<table border=\"1\" class=\"dataframe\">\n",
       "  <thead>\n",
       "    <tr style=\"text-align: right;\">\n",
       "      <th></th>\n",
       "      <th>NOISE</th>\n",
       "      <th>WEMP</th>\n",
       "      <th>DOC</th>\n",
       "      <th>ROUGH</th>\n",
       "      <th>WFUEL</th>\n",
       "      <th>PURCH</th>\n",
       "      <th>RANGE</th>\n",
       "      <th>LDMAX</th>\n",
       "      <th>VCMAX</th>\n",
       "      <th>PFPF</th>\n",
       "    </tr>\n",
       "  </thead>\n",
       "  <tbody>\n",
       "  </tbody>\n",
       "</table>\n",
       "</div>"
      ],
      "text/plain": [
       "Empty DataFrame\n",
       "Columns: [NOISE, WEMP, DOC, ROUGH, WFUEL, PURCH, RANGE, LDMAX, VCMAX, PFPF]\n",
       "Index: []"
      ]
     },
     "execution_count": 123,
     "metadata": {},
     "output_type": "execute_result"
    }
   ],
   "source": [
    "import pandas as pd\n",
    "df1=pd.read_csv(\"GAA_pset.csv\")\n",
    "df1.loc[(df1[\"NOISE\"]<73.6) & (df1[\"WEMP\"]<1960) & (df1[\"DOC\"]<68.9)\n",
    "        & (df1[\"ROUGH\"]<1.9) & (df1[\"WFUEL\"] < 423) & (df1[\"PURCH\"] < 43250) \n",
    "        & (df1[\"RANGE\"]<-2217) & (df1[\"LDMAX\"] <-15.4 )& (df1[\"VCMAX\"] <-195.1 )\n",
    "        & (df1[\"PFPF\"]<1)]\n",
    "        "
   ]
  },
  {
   "cell_type": "markdown",
   "metadata": {},
   "source": [
    "There is no aircraft that can meet all these criteria, so I would advise the executive to either scale down the requirements or deleting less important criteria. "
   ]
  },
  {
   "cell_type": "markdown",
   "metadata": {},
   "source": [
    "\n"
   ]
  },
  {
   "cell_type": "markdown",
   "metadata": {},
   "source": [
    "# Sensitivity Analysis OAT\n",
    "\n"
   ]
  },
  {
   "cell_type": "code",
   "execution_count": 146,
   "metadata": {},
   "outputs": [],
   "source": [
    "import math\n",
    "def fun(x1, x2, x3):\n",
    "    return math.sin(x1) + 7* (math.sin(x2))**2 + 0.1* x3**4 * math.sin(x3)"
   ]
  },
  {
   "cell_type": "code",
   "execution_count": 154,
   "metadata": {},
   "outputs": [
    {
     "data": {
      "text/plain": [
       "5.931868386457223"
      ]
     },
     "execution_count": 154,
     "metadata": {},
     "output_type": "execute_result"
    }
   ],
   "source": [
    "fun(1+0.1,1,1)"
   ]
  },
  {
   "cell_type": "code",
   "execution_count": 161,
   "metadata": {},
   "outputs": [],
   "source": [
    "sens1 = (fun(1+0.1,1,1)-fun(1,1,1))/0.1\n",
    "sens2 = (fun(1,1+0.1,1)-fun(1,1,1))/0.1\n",
    "sens3 = (fun(1,1,1+0.1)-fun(1,1,1))/0.1"
   ]
  },
  {
   "cell_type": "code",
   "execution_count": 162,
   "metadata": {},
   "outputs": [
    {
     "name": "stdout",
     "output_type": "stream",
     "text": [
      "0.4973637525353869 6.032399824787129 0.4633457110580519\n"
     ]
    }
   ],
   "source": [
    "print(sens1, sens2, sens3)"
   ]
  },
  {
   "cell_type": "markdown",
   "metadata": {},
   "source": [
    "x2 seems to be the most influential of all three. "
   ]
  },
  {
   "cell_type": "markdown",
   "metadata": {},
   "source": [
    "# Global sensitivity\n"
   ]
  },
  {
   "cell_type": "code",
   "execution_count": 165,
   "metadata": {},
   "outputs": [],
   "source": [
    "from SALib.analyze import sobol\n",
    "from SALib.sample import saltelli"
   ]
  },
  {
   "cell_type": "code",
   "execution_count": 175,
   "metadata": {},
   "outputs": [
    {
     "name": "stdout",
     "output_type": "stream",
     "text": [
      "Parameter S1 S1_conf ST ST_conf\n",
      "x1 0.312346 0.063614 0.554344 0.086921\n",
      "x2 0.442995 0.045276 0.437538 0.037769\n",
      "x3 0.009031 0.059182 0.245577 0.028560\n",
      "\n",
      "Parameter_1 Parameter_2 S2 S2_conf\n",
      "x1 x2 0.010274 0.083334\n",
      "x1 x3 0.237711 0.101215\n",
      "x2 x3 -0.014603 0.069666\n"
     ]
    }
   ],
   "source": [
    "from SALib.test_functions import Ishigami\n",
    "\n",
    "import numpy as np\n",
    "problem = {\n",
    "    'num_vars': 3,\n",
    "    'names': ['x1', 'x2', 'x3'],\n",
    "    'bounds': [[-3.14159, 3.14159],\n",
    "    [-3.14159, 3.14159],\n",
    "    [-3.14159, 3.14159]]\n",
    "}\n",
    "\n",
    "\n",
    "param_values = saltelli.sample(problem, 1000)\n",
    "\n",
    "\n",
    "Y = Ishigami.evaluate(param_values)\n",
    "\n",
    "\n",
    "Si = sobol.analyze(problem, Y, print_to_console=True)\n"
   ]
  },
  {
   "cell_type": "code",
   "execution_count": null,
   "metadata": {},
   "outputs": [],
   "source": []
  }
 ],
 "metadata": {
  "kernelspec": {
   "display_name": "Python 3",
   "language": "python",
   "name": "python3"
  },
  "language_info": {
   "codemirror_mode": {
    "name": "ipython",
    "version": 3
   },
   "file_extension": ".py",
   "mimetype": "text/x-python",
   "name": "python",
   "nbconvert_exporter": "python",
   "pygments_lexer": "ipython3",
   "version": "3.8.3"
  }
 },
 "nbformat": 4,
 "nbformat_minor": 4
}
