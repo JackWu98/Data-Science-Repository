{
 "cells": [
  {
   "cell_type": "markdown",
   "metadata": {},
   "source": [
    "### Part 1"
   ]
  },
  {
   "cell_type": "code",
   "execution_count": 3,
   "metadata": {},
   "outputs": [
    {
     "data": {
      "text/plain": [
       "array([[0.00000000e+00, 7.46363363e-19, 3.65718048e-18, ...,\n",
       "        0.00000000e+00, 0.00000000e+00, 0.00000000e+00],\n",
       "       [0.00000000e+00, 1.49272673e-19, 7.46363363e-19, ...,\n",
       "        0.00000000e+00, 0.00000000e+00, 0.00000000e+00],\n",
       "       [0.00000000e+00, 2.92691515e-20, 1.49272673e-19, ...,\n",
       "        0.00000000e+00, 0.00000000e+00, 0.00000000e+00],\n",
       "       ...,\n",
       "       [0.00000000e+00, 5.07478264e-43, 4.00907828e-42, ...,\n",
       "        2.26999649e-03, 4.53999298e-04, 4.53999298e-05],\n",
       "       [0.00000000e+00, 5.07478264e-43, 4.00907828e-42, ...,\n",
       "        2.26999649e-03, 4.53999298e-04, 4.53999298e-05],\n",
       "       [0.00000000e+00, 5.07478264e-43, 4.00907828e-42, ...,\n",
       "        2.26999649e-03, 4.53999298e-04, 4.53999298e-05]])"
      ]
     },
     "execution_count": 3,
     "metadata": {},
     "output_type": "execute_result"
    }
   ],
   "source": [
    "import numpy as np\n",
    "import pandas as pd\n",
    "from scipy.stats import poisson\n",
    "\n",
    "\n",
    "M=np.zeros((81,81))\n",
    "values=np.linspace(-30,50,81)\n",
    "\n",
    "for i,v0 in enumerate(values):\n",
    "    v1_max = min(50,50+v0)\n",
    "        \n",
    "    for j,v1 in enumerate(range(-30,int(v1_max)+1)):\n",
    "        if j!=0:\n",
    "            M[i][j]=poisson.pmf(v1_max-v1,10)\n",
    "            \n",
    "        else:\n",
    "            if v0<0:\n",
    "                M[i][0]=1-poisson.cdf(79+v0,10)\n",
    "            else:\n",
    "                M[i][0]=1-poisson.cdf(79,10)\n",
    "    \n",
    "M"
   ]
  },
  {
   "cell_type": "code",
   "execution_count": 4,
   "metadata": {},
   "outputs": [
    {
     "ename": "TypeError",
     "evalue": "CreateSolver() takes 1 positional argument but 2 were given",
     "output_type": "error",
     "traceback": [
      "\u001b[1;31m---------------------------------------------------------------------------\u001b[0m",
      "\u001b[1;31mTypeError\u001b[0m                                 Traceback (most recent call last)",
      "\u001b[1;32m<ipython-input-4-c68b2c91e07c>\u001b[0m in \u001b[0;36m<module>\u001b[1;34m\u001b[0m\n\u001b[0;32m      1\u001b[0m \u001b[1;31m#2.\u001b[0m\u001b[1;33m\u001b[0m\u001b[1;33m\u001b[0m\u001b[1;33m\u001b[0m\u001b[0m\n\u001b[0;32m      2\u001b[0m \u001b[1;32mfrom\u001b[0m \u001b[0mortools\u001b[0m\u001b[1;33m.\u001b[0m\u001b[0mlinear_solver\u001b[0m \u001b[1;32mimport\u001b[0m \u001b[0mpywraplp\u001b[0m\u001b[1;33m\u001b[0m\u001b[1;33m\u001b[0m\u001b[0m\n\u001b[1;32m----> 3\u001b[1;33m \u001b[0msolver\u001b[0m \u001b[1;33m=\u001b[0m \u001b[0mpywraplp\u001b[0m\u001b[1;33m.\u001b[0m\u001b[0mSolver\u001b[0m\u001b[1;33m.\u001b[0m\u001b[0mCreateSolver\u001b[0m\u001b[1;33m(\u001b[0m\u001b[1;34m'Markov'\u001b[0m\u001b[1;33m,\u001b[0m\u001b[1;34m'GLOP'\u001b[0m\u001b[1;33m)\u001b[0m\u001b[1;33m\u001b[0m\u001b[1;33m\u001b[0m\u001b[0m\n\u001b[0m\u001b[0;32m      4\u001b[0m \u001b[1;33m\u001b[0m\u001b[0m\n\u001b[0;32m      5\u001b[0m \u001b[0mpi\u001b[0m\u001b[1;33m=\u001b[0m\u001b[1;33m[\u001b[0m\u001b[0msolver\u001b[0m\u001b[1;33m.\u001b[0m\u001b[0mNumVar\u001b[0m\u001b[1;33m(\u001b[0m\u001b[1;36m0\u001b[0m\u001b[1;33m,\u001b[0m \u001b[0msolver\u001b[0m\u001b[1;33m.\u001b[0m\u001b[0minfinity\u001b[0m\u001b[1;33m(\u001b[0m\u001b[1;33m)\u001b[0m\u001b[1;33m,\u001b[0m \u001b[1;34m'v'\u001b[0m \u001b[1;33m+\u001b[0m \u001b[0mstr\u001b[0m\u001b[1;33m(\u001b[0m\u001b[0mi\u001b[0m\u001b[1;33m)\u001b[0m\u001b[1;33m)\u001b[0m \u001b[1;32mfor\u001b[0m \u001b[0mi\u001b[0m \u001b[1;32min\u001b[0m \u001b[0mrange\u001b[0m\u001b[1;33m(\u001b[0m\u001b[1;36m81\u001b[0m\u001b[1;33m)\u001b[0m\u001b[1;33m]\u001b[0m\u001b[1;33m\u001b[0m\u001b[1;33m\u001b[0m\u001b[0m\n",
      "\u001b[1;31mTypeError\u001b[0m: CreateSolver() takes 1 positional argument but 2 were given"
     ]
    }
   ],
   "source": [
    "#2. \n",
    "from ortools.linear_solver import pywraplp\n",
    "solver = pywraplp.Solver.CreateSolver('Markov','GLOP')\n",
    "\n",
    "pi=[solver.NumVar(0, solver.infinity(), 'v' + str(i)) for i in range(81)]\n",
    "\n",
    "\n",
    "for i in range(81):\n",
    "    s=solver.Sum(pi*M[:,i])\n",
    "    solver.Add(s == pi[i])\n",
    "    \n",
    "solver.Add(solver.Sum(pi)==1)\n",
    "\n",
    "status = solver.Solve()\n",
    "if status == solver.OPTIMAL:\n",
    "    print('Problem solved in %f milliseconds' %solver.wall_time())\n",
    "    print('The optimal solution is \\n',  [pi[i].solution_value() for i in range(81)])\n",
    "\n",
    "elif status == solver.FEASIBLE:\n",
    "    print('Solver claims feasibility but not optimality')\n",
    "    exit(1)\n",
    "else:\n",
    "    print('The problem does not have an optimal solution.')\n",
    "    exit(1)"
   ]
  },
  {
   "cell_type": "code",
   "execution_count": null,
   "metadata": {
    "scrolled": true
   },
   "outputs": [],
   "source": [
    "#check\n",
    "np.dot([pi[i].solution_value() for i in range(81)],M) #==pi"
   ]
  },
  {
   "cell_type": "code",
   "execution_count": null,
   "metadata": {},
   "outputs": [],
   "source": [
    "long_run_avg= np.dot([pi[i].solution_value() for i in range(81)],values)\n",
    "print('The long run average is:',long_run_avg)\n",
    "service_level= np.sum([pi[i].solution_value()][:30])\n",
    "print('The servicfe level is:',service_level)"
   ]
  },
  {
   "cell_type": "markdown",
   "metadata": {},
   "source": [
    "### Part 2"
   ]
  },
  {
   "cell_type": "code",
   "execution_count": null,
   "metadata": {},
   "outputs": [],
   "source": [
    "pi"
   ]
  },
  {
   "cell_type": "code",
   "execution_count": 8,
   "metadata": {},
   "outputs": [
    {
     "data": {
      "text/plain": [
       "array([0.00000000e+00, 5.07478264e-43, 4.00907828e-42, 3.12708106e-41,\n",
       "       2.40785242e-40, 1.82996784e-39, 1.37247588e-38, 1.01563215e-37,\n",
       "       7.41411469e-37, 5.33816258e-36, 3.79009543e-35, 2.65306680e-34,\n",
       "       1.83061609e-33, 1.24481894e-32, 8.34028692e-32, 5.50458937e-31,\n",
       "       3.57798309e-30, 2.28990918e-29, 1.44264278e-28, 8.94438525e-28,\n",
       "       5.45607500e-27, 3.27364500e-26, 1.93145055e-25, 1.12024132e-24,\n",
       "       6.38537552e-24, 3.57581029e-23, 1.96669566e-22, 1.06201566e-21,\n",
       "       5.62868298e-21, 2.92691515e-20, 1.49272673e-19, 7.46363363e-19,\n",
       "       3.65718048e-18, 1.75544663e-17, 8.25059916e-17, 3.79527561e-16,\n",
       "       1.70787403e-15, 7.51464571e-15, 3.23129766e-14, 1.35714502e-13,\n",
       "       5.56429457e-13, 2.22571783e-12, 8.68029952e-12, 3.29851382e-11,\n",
       "       1.22045011e-10, 4.39362041e-10, 1.53776714e-09, 5.22840828e-09,\n",
       "       1.72537473e-08, 5.52119915e-08, 1.71157174e-07, 5.13471521e-07,\n",
       "       1.48906741e-06, 4.16938875e-06, 1.12573496e-05, 2.92691090e-05,\n",
       "       7.31727725e-05, 1.75614654e-04, 4.03913704e-04, 8.88610150e-04,\n",
       "       1.86608131e-03, 3.73216263e-03, 7.09110899e-03, 1.27639962e-02,\n",
       "       2.16987935e-02, 3.47180696e-02, 5.20771044e-02, 7.29079462e-02,\n",
       "       9.47803301e-02, 1.13736396e-01, 1.25110036e-01, 1.25110036e-01,\n",
       "       1.12599032e-01, 9.00792257e-02, 6.30554580e-02, 3.78332748e-02,\n",
       "       1.89166374e-02, 7.56665496e-03, 2.26999649e-03, 4.53999298e-04,\n",
       "       4.53999298e-05])"
      ]
     },
     "execution_count": 8,
     "metadata": {},
     "output_type": "execute_result"
    }
   ],
   "source": [
    "M[80]"
   ]
  },
  {
   "cell_type": "markdown",
   "metadata": {},
   "source": [
    "Assume we have a transition matrix p, an Inventory level I, "
   ]
  },
  {
   "cell_type": "markdown",
   "metadata": {},
   "source": [
    "reward function = -I * c - I * h + min (I, 0) * b\n"
   ]
  },
  {
   "cell_type": "code",
   "execution_count": null,
   "metadata": {},
   "outputs": [],
   "source": []
  }
 ],
 "metadata": {
  "kernelspec": {
   "display_name": "Python 3",
   "language": "python",
   "name": "python3"
  },
  "language_info": {
   "codemirror_mode": {
    "name": "ipython",
    "version": 3
   },
   "file_extension": ".py",
   "mimetype": "text/x-python",
   "name": "python",
   "nbconvert_exporter": "python",
   "pygments_lexer": "ipython3",
   "version": "3.8.3"
  }
 },
 "nbformat": 4,
 "nbformat_minor": 4
}
